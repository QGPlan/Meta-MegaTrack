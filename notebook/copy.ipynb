{
 "cells": [
  {
   "cell_type": "code",
   "execution_count": null,
   "metadata": {},
   "outputs": [],
   "source": [
    "import torch\n",
    "import numpy as np\n",
    "import cv2\n",
    "import json\n",
    "import os\n",
    "import a_geometry as geo\n",
    "import augmentation\n",
    "from dataclasses import dataclass\n",
    "\n",
    "from a_structs import *"
   ]
  },
  {
   "cell_type": "code",
   "execution_count": null,
   "metadata": {},
   "outputs": [],
   "source": [
    "ann_root = \"/excluded_epics_from_sync/kitchen_labels/\"\n",
    "img_root = \"/media/moses/TRAINDATA1/EPIC-KITCHENS/\"\n",
    "new_img_root = \"/media/moses/epickitchens/EPIC-KITCHENS/\"\n",
    "\n",
    "subjects = sorted(os.listdir(ann_root))\n",
    "\n",
    "for subject_idx, subject in enumerate(subjects):\n",
    "        print(f\"Loading subject idx {subject_idx}/{len(subjects)}\")\n",
    "        for sequence_idx, subject_sequence in enumerate(sorted(os.listdir(os.path.join(ann_root, subject)))):\n",
    "          img_folder = os.path.join(\n",
    "                img_root, subject, \"rgb_frames\", subject_sequence)\n",
    "          new_img_folder = os.path.join(\n",
    "                new_img_root, subject, \"rgb_frames\", subject_sequence)\n",
    "          new_img_folder_ = os.path.join(\n",
    "                new_img_root, subject, \"rgb_frames\")  \n",
    "          os.makedirs(new_img_folder, exist_ok=True)\n",
    "          command = f\" cp -r {img_folder} {new_img_folder_}\"\n",
    "          print(command)\n",
    "          os.system(f\" cp -r {img_folder} {new_img_folder_}\")"
   ]
  }
 ],
 "metadata": {
  "kernelspec": {
   "display_name": "Python 3.8.10 64-bit",
   "language": "python",
   "name": "python3"
  },
  "language_info": {
   "codemirror_mode": {
    "name": "ipython",
    "version": 3
   },
   "file_extension": ".py",
   "mimetype": "text/x-python",
   "name": "python",
   "nbconvert_exporter": "python",
   "pygments_lexer": "ipython3",
   "version": "3.12.4"
  },
  "orig_nbformat": 4,
  "vscode": {
   "interpreter": {
    "hash": "916dbcbb3f70747c44a77c7bcd40155683ae19c65e1c03b4aa3499c5328201f1"
   }
  }
 },
 "nbformat": 4,
 "nbformat_minor": 2
}
